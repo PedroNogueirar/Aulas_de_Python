{
 "cells": [
  {
   "cell_type": "markdown",
   "metadata": {},
   "source": [
    "# Gabaritos - Aula 1"
   ]
  },
  {
   "cell_type": "markdown",
   "metadata": {},
   "source": [
    "#### Resposta 2."
   ]
  },
  {
   "cell_type": "code",
   "execution_count": null,
   "metadata": {},
   "outputs": [],
   "source": [
    "variavel = 1\n",
    "print(type(variavel))\n",
    "variavel = '1'\n",
    "print(type(variavel))\n",
    "variavel = '1.0'\n",
    "print(type(variavel))\n",
    "variavel = 'True'\n",
    "print(type(variavel))\n",
    "variavel = True\n",
    "print(type(variavel))"
   ]
  },
  {
   "cell_type": "markdown",
   "metadata": {},
   "source": [
    "#### Resposta 3."
   ]
  },
  {
   "cell_type": "code",
   "execution_count": null,
   "metadata": {},
   "outputs": [],
   "source": [
    "x = 1\n",
    "print(type(x))\n",
    "x = 1.0\n",
    "print(type(x))"
   ]
  },
  {
   "cell_type": "markdown",
   "metadata": {},
   "source": [
    "#### Resposta 4."
   ]
  },
  {
   "cell_type": "code",
   "execution_count": null,
   "metadata": {},
   "outputs": [],
   "source": [
    "tv = 950\n",
    "prestacoes = tv / 10\n",
    "resultado = prestacoes * 6\n",
    "print(resultado)"
   ]
  },
  {
   "cell_type": "markdown",
   "metadata": {},
   "source": [
    "#### Resposta 5."
   ]
  },
  {
   "cell_type": "code",
   "execution_count": null,
   "metadata": {},
   "outputs": [],
   "source": [
    "nome = input('Digite seu nome aqui: ')\n",
    "sobrenome = input('Agora digite seus sobrenomes: ')\n",
    "print('Bom dia, ', nome, sobrenome)"
   ]
  },
  {
   "cell_type": "markdown",
   "metadata": {},
   "source": [
    "#### Resposta 6."
   ]
  },
  {
   "cell_type": "code",
   "execution_count": null,
   "metadata": {},
   "outputs": [],
   "source": [
    "senha_correta = 'barril'\n",
    "senha = input('Digite sua senha: ')\n",
    "\n",
    "if senha == senha_correta:\n",
    "    print('Você tem acesso ao sistema...')\n",
    "else:\n",
    "    print('Senha incorreta!!!')"
   ]
  },
  {
   "cell_type": "markdown",
   "metadata": {},
   "source": [
    "#### Resposta 7."
   ]
  },
  {
   "cell_type": "code",
   "execution_count": null,
   "metadata": {},
   "outputs": [],
   "source": [
    "usuario = input('Digite seu nome de usuário: ')\n",
    "senha = input('Digite sua senha: ')\n",
    "while senha == usuario:\n",
    "    usuario = input('O nome de usuário não pode ser igual a senha, digite outro nome de usuário: ')\n",
    "    senha = input('Digite sua nova senha: ')\n",
    "print('Usuário definido com sucesso!')"
   ]
  },
  {
   "cell_type": "markdown",
   "metadata": {},
   "source": [
    "#### Resposta 8."
   ]
  },
  {
   "cell_type": "code",
   "execution_count": null,
   "metadata": {},
   "outputs": [],
   "source": [
    "contador = 1\n",
    "while contador <= 8:\n",
    "    if contador % 2 == 0:\n",
    "        print('XOXOXOXO')\n",
    "    else:\n",
    "        print('OXOXOXOX')\n",
    "    contador += 1"
   ]
  },
  {
   "cell_type": "markdown",
   "metadata": {},
   "source": [
    "#### Reposta 9."
   ]
  },
  {
   "cell_type": "code",
   "execution_count": null,
   "metadata": {},
   "outputs": [],
   "source": [
    "for i in range(2, 11):\n",
    "    if i < 5:\n",
    "        print(f'O número {i} é menor que 5')\n",
    "    elif i == 5:\n",
    "        print(f'O número {i} é igual que 5')\n",
    "    else:\n",
    "        print(f'O número {i} é maior que 5')"
   ]
  },
  {
   "cell_type": "markdown",
   "metadata": {},
   "source": [
    "#### Resposta 10."
   ]
  },
  {
   "cell_type": "code",
   "execution_count": null,
   "metadata": {},
   "outputs": [],
   "source": [
    "texto = input('Digite seu nome aqui: ')\n",
    "contagem = 0\n",
    "for letra in texto:\n",
    "    if letra != ' ':\n",
    "        contagem += 1\n",
    "print('O número de caractéres é:', contagem)"
   ]
  },
  {
   "cell_type": "markdown",
   "metadata": {},
   "source": [
    "#### Resposta 11."
   ]
  },
  {
   "cell_type": "code",
   "execution_count": null,
   "metadata": {},
   "outputs": [],
   "source": [
    "linhas = int(input('Digite o número de linhas do tabuleiro: '))\n",
    "colunas = int(input('Digite o número de colunas do tabuleiro: '))\n",
    "if linhas < 2 or colunas < 2:\n",
    "    print(False)\n",
    "else:\n",
    "    contador_linhas = 1\n",
    "    contador_colunas = 1\n",
    "    while contador_linhas <= linhas:\n",
    "        if contador_linhas%2 == 0:\n",
    "            while contador_colunas <= colunas:\n",
    "                if contador_colunas%2 == 0:\n",
    "                    print('O', end='')\n",
    "                else:\n",
    "                    print('X', end='')\n",
    "                contador_colunas += 1\n",
    "            print(end ='\\n')\n",
    "            contador_colunas = 1\n",
    "        else:\n",
    "            while contador_colunas <= colunas:\n",
    "                if contador_colunas%2 == 0:\n",
    "                    print('X', end='')\n",
    "                else:\n",
    "                    print('O', end='')\n",
    "                contador_colunas += 1\n",
    "            print(end ='\\n')\n",
    "            contador_colunas = 1\n",
    "        contador_linhas += 1"
   ]
  },
  {
   "cell_type": "code",
   "execution_count": null,
   "metadata": {},
   "outputs": [],
   "source": [
    "# Forma mais avançada\n",
    "\n",
    "import numpy as np\n",
    "\n",
    "colunas = int(input('Digite o número de colunas aqui: '))\n",
    "linhas = int(input('Digite o número de linhas aqui: '))\n",
    "\n",
    "matriz = np.zeros((linhas, colunas), dtype = 'str')\n",
    "\n",
    "contador_linha = 0\n",
    "if colunas < 2 or linhas < 2:\n",
    "    print('Erro')\n",
    "else:\n",
    "    for linha in matriz:\n",
    "        if contador_linha % 2 == 0:\n",
    "            for coluna in range(len(linha)):\n",
    "                if coluna % 2 == 0:\n",
    "                    matriz[contador_linha, coluna] = 'B'\n",
    "                else:\n",
    "                    matriz[contador_linha, coluna] = 'P'\n",
    "            contador_linha += 1\n",
    "        else:\n",
    "            for coluna in range(len(linha)):\n",
    "                if coluna % 2 == 0:\n",
    "                    matriz[contador_linha, coluna] = 'P'\n",
    "                else:\n",
    "                    matriz[contador_linha, coluna] = 'B'\n",
    "            contador_linha += 1\n",
    "    print(matriz)"
   ]
  }
 ],
 "metadata": {
  "kernelspec": {
   "display_name": "Python 3",
   "language": "python",
   "name": "python3"
  },
  "language_info": {
   "codemirror_mode": {
    "name": "ipython",
    "version": 3
   },
   "file_extension": ".py",
   "mimetype": "text/x-python",
   "name": "python",
   "nbconvert_exporter": "python",
   "pygments_lexer": "ipython3",
   "version": "3.8.3"
  }
 },
 "nbformat": 4,
 "nbformat_minor": 4
}
